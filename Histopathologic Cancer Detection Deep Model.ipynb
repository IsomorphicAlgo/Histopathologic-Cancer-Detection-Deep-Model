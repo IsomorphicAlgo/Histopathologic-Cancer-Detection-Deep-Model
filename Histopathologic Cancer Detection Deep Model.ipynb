{
 "cells": [
  {
   "cell_type": "markdown",
   "metadata": {},
   "source": [
    "# Histopathologic Cancer Detection Deep Model"
   ]
  },
  {
   "cell_type": "markdown",
   "metadata": {},
   "source": [
    "<center>\n",
    "    <h3>Utilizing deep learning to detect cancer in histopathologic images.</h3><br>\n",
    "    <h5>By: Michael Hansen</h5>\n",
    "    <h5>Date: 02/04/2025</h5>\n",
    "    <h5>Course: DTSA5511 Deep Learning</h5>\n",
    "    <h5>Instructor: Dr. Ying Sun</h5>\n",
    "</center>\n"
   ]
  },
  {
   "cell_type": "markdown",
   "metadata": {},
   "source": [
    "This notebook is an exploration into Deep Learning and it's use to detect cancer in histopathologic images. The dataset provided in this Kaggle competition is a collection of histopathologic images of breast cancer tumors. The goal is to build a model that can accurately detect cancer in these images.\n",
    "\n",
    "The importance of being able to perform this task with a deep learning model cannot be understated as the benifits are too numerous to count. Thankfully there is a host of brilliant minds that have made a suite of tools that make this task easier. For this project I will be using the [Keras](https://keras.io/) library to build my model, and using ideas such as pooling, dropout, and batch normalization to improve the performance of my model.\n",
    "\n",
    "The dataset can be found [here](https://www.kaggle.com/competitions/histopathologic-cancer-detection/data), and was originally obtained from the [TCGA](https://portal.gdc.cancer.gov/projects/TCGA-BRCA) project. The group at kaggle removed duplicates that originated from probablistic sampling. There are roughly 220,000 labeled images for training and about 57,000 for the test set.\n"
   ]
  },
  {
   "cell_type": "code",
   "execution_count": 1,
   "metadata": {},
   "outputs": [],
   "source": [
    "# Importing Libraries\n",
    "\n",
    "import numpy as np # linear algebra\n",
    "import pandas as pd # data processing, CSV file I/O (e.g. pd.read_csv)\n",
    "import matplotlib.pyplot as plt # plotting\n",
    "from plotly.subplots import make_subplots # plotting\n",
    "import plotly.graph_objs as go # plotting\n",
    "\n",
    "from concurrent.futures import ThreadPoolExecutor\n",
    "import multiprocessing\n",
    "import cv2 # image processing\n",
    "import gc # Clear Memory\n",
    "from glob import glob # file handling\n",
    "import os # file handling\n",
    "from tqdm import tqdm\n",
    "\n",
    "# deep learning\n",
    "import tensorflow as tf\n",
    "from tensorflow.keras.models import Sequential, Model\n",
    "from tensorflow.keras.layers import Dense, Dropout, Flatten, BatchNormalization, Activation, Conv2D, MaxPool2D, Input, GlobalAveragePooling2D\n",
    "from tensorflow.keras.optimizers import Adam\n",
    "from tensorflow.keras.callbacks import ModelCheckpoint, EarlyStopping, TensorBoard, CSVLogger, ReduceLROnPlateau  # You might use these later\n",
    "\n",
    "from sklearn.utils import shuffle\n",
    "from sklearn.metrics import classification_report, confusion_matrix, roc_curve, auc\n",
    "from sklearn.model_selection import train_test_split\n"
   ]
  },
  {
   "cell_type": "code",
   "execution_count": 2,
   "metadata": {},
   "outputs": [
    {
     "name": "stdout",
     "output_type": "stream",
     "text": [
      "TensorFlow version: 2.18.0\n",
      "Num GPUs Available:  0\n",
      "GPU Devices: []\n"
     ]
    }
   ],
   "source": [
    "print(\"TensorFlow version:\", tf.__version__)\n",
    "print(\"Num GPUs Available: \", len(tf.config.list_physical_devices('GPU')))\n",
    "print(\"GPU Devices:\", tf.config.list_physical_devices('GPU'))\n",
    "#print(\"CUDA available:\", torch.cuda.is_available())\n",
    "#print(\"GPU Device Name:\", torch.cuda.get_device_name(0) if torch.cuda.is_available() else \"No GPU found\")"
   ]
  },
  {
   "cell_type": "code",
   "execution_count": 3,
   "metadata": {},
   "outputs": [
    {
     "name": "stdout",
     "output_type": "stream",
     "text": [
      "labels\n"
     ]
    },
    {
     "data": {
      "text/html": [
       "<div>\n",
       "<style scoped>\n",
       "    .dataframe tbody tr th:only-of-type {\n",
       "        vertical-align: middle;\n",
       "    }\n",
       "\n",
       "    .dataframe tbody tr th {\n",
       "        vertical-align: top;\n",
       "    }\n",
       "\n",
       "    .dataframe thead th {\n",
       "        text-align: right;\n",
       "    }\n",
       "</style>\n",
       "<table border=\"1\" class=\"dataframe\">\n",
       "  <thead>\n",
       "    <tr style=\"text-align: right;\">\n",
       "      <th></th>\n",
       "      <th>id</th>\n",
       "      <th>label</th>\n",
       "    </tr>\n",
       "  </thead>\n",
       "  <tbody>\n",
       "    <tr>\n",
       "      <th>0</th>\n",
       "      <td>f38a6374c348f90b587e046aac6079959adf3835</td>\n",
       "      <td>0</td>\n",
       "    </tr>\n",
       "    <tr>\n",
       "      <th>1</th>\n",
       "      <td>c18f2d887b7ae4f6742ee445113fa1aef383ed77</td>\n",
       "      <td>1</td>\n",
       "    </tr>\n",
       "    <tr>\n",
       "      <th>2</th>\n",
       "      <td>755db6279dae599ebb4d39a9123cce439965282d</td>\n",
       "      <td>0</td>\n",
       "    </tr>\n",
       "    <tr>\n",
       "      <th>3</th>\n",
       "      <td>bc3f0c64fb968ff4a8bd33af6971ecae77c75e08</td>\n",
       "      <td>0</td>\n",
       "    </tr>\n",
       "    <tr>\n",
       "      <th>4</th>\n",
       "      <td>068aba587a4950175d04c680d38943fd488d6a9d</td>\n",
       "      <td>0</td>\n",
       "    </tr>\n",
       "  </tbody>\n",
       "</table>\n",
       "</div>"
      ],
      "text/plain": [
       "                                         id  label\n",
       "0  f38a6374c348f90b587e046aac6079959adf3835      0\n",
       "1  c18f2d887b7ae4f6742ee445113fa1aef383ed77      1\n",
       "2  755db6279dae599ebb4d39a9123cce439965282d      0\n",
       "3  bc3f0c64fb968ff4a8bd33af6971ecae77c75e08      0\n",
       "4  068aba587a4950175d04c680d38943fd488d6a9d      0"
      ]
     },
     "execution_count": 3,
     "metadata": {},
     "output_type": "execute_result"
    }
   ],
   "source": [
    "file_path = 'G:/My Drive/Academia/C Data/'\n",
    "train_path = file_path + \"train/\"\n",
    "test_path = file_path + \"test/\"\n",
    "\n",
    "\n",
    "labels = pd.read_csv(file_path + \"train_labels.csv\")\n",
    "print(\"labels\")\n",
    "labels.head()\n",
    "\n",
    "\n",
    "\n",
    "#final_data_frame = pd.concat([train_data_frame, test_data_frame]).reset_index(drop = True)"
   ]
  },
  {
   "cell_type": "code",
   "execution_count": 4,
   "metadata": {},
   "outputs": [
    {
     "name": "stdout",
     "output_type": "stream",
     "text": [
      "train\n"
     ]
    },
    {
     "data": {
      "text/plain": [
       "220025"
      ]
     },
     "execution_count": 4,
     "metadata": {},
     "output_type": "execute_result"
    }
   ],
   "source": [
    "\n",
    "train_data_frame = pd.DataFrame({'path': [p.replace('\\\\', '/') for p in glob(os.path.join(train_path,'*.tif'))]})\n",
    "train_data_frame['id'] = train_data_frame.path.map(lambda x: x.split('/')[5].split(\".\")[0])\n",
    "df_data = train_data_frame.merge(labels, on = \"id\")\n",
    "print(\"train\")\n",
    "df_data.head()\n",
    "\n",
    "len(train_data_frame)"
   ]
  },
  {
   "cell_type": "code",
   "execution_count": 5,
   "metadata": {},
   "outputs": [
    {
     "name": "stdout",
     "output_type": "stream",
     "text": [
      "test\n",
      "57458\n"
     ]
    },
    {
     "data": {
      "text/html": [
       "<div>\n",
       "<style scoped>\n",
       "    .dataframe tbody tr th:only-of-type {\n",
       "        vertical-align: middle;\n",
       "    }\n",
       "\n",
       "    .dataframe tbody tr th {\n",
       "        vertical-align: top;\n",
       "    }\n",
       "\n",
       "    .dataframe thead th {\n",
       "        text-align: right;\n",
       "    }\n",
       "</style>\n",
       "<table border=\"1\" class=\"dataframe\">\n",
       "  <thead>\n",
       "    <tr style=\"text-align: right;\">\n",
       "      <th></th>\n",
       "      <th>path</th>\n",
       "      <th>id</th>\n",
       "    </tr>\n",
       "  </thead>\n",
       "  <tbody>\n",
       "    <tr>\n",
       "      <th>0</th>\n",
       "      <td>G:/My Drive/Academia/C Data/test/00680dd398aaf...</td>\n",
       "      <td>00680dd398aaf3885ee39a5a3853e96c6d99ebcb</td>\n",
       "    </tr>\n",
       "    <tr>\n",
       "      <th>1</th>\n",
       "      <td>G:/My Drive/Academia/C Data/test/0060ae5d2ca3e...</td>\n",
       "      <td>0060ae5d2ca3e4c57d4736597a4c56e5942007b8</td>\n",
       "    </tr>\n",
       "    <tr>\n",
       "      <th>2</th>\n",
       "      <td>G:/My Drive/Academia/C Data/test/005f1d7c296b8...</td>\n",
       "      <td>005f1d7c296b81c8a775adde197ff540db73d042</td>\n",
       "    </tr>\n",
       "    <tr>\n",
       "      <th>3</th>\n",
       "      <td>G:/My Drive/Academia/C Data/test/005e7b500fa8b...</td>\n",
       "      <td>005e7b500fa8bd60a4abd0d352a199d57f570b10</td>\n",
       "    </tr>\n",
       "    <tr>\n",
       "      <th>4</th>\n",
       "      <td>G:/My Drive/Academia/C Data/test/0060269536500...</td>\n",
       "      <td>0060269536500f323a952b28ee090c106dc4e5a5</td>\n",
       "    </tr>\n",
       "  </tbody>\n",
       "</table>\n",
       "</div>"
      ],
      "text/plain": [
       "                                                path  \\\n",
       "0  G:/My Drive/Academia/C Data/test/00680dd398aaf...   \n",
       "1  G:/My Drive/Academia/C Data/test/0060ae5d2ca3e...   \n",
       "2  G:/My Drive/Academia/C Data/test/005f1d7c296b8...   \n",
       "3  G:/My Drive/Academia/C Data/test/005e7b500fa8b...   \n",
       "4  G:/My Drive/Academia/C Data/test/0060269536500...   \n",
       "\n",
       "                                         id  \n",
       "0  00680dd398aaf3885ee39a5a3853e96c6d99ebcb  \n",
       "1  0060ae5d2ca3e4c57d4736597a4c56e5942007b8  \n",
       "2  005f1d7c296b81c8a775adde197ff540db73d042  \n",
       "3  005e7b500fa8bd60a4abd0d352a199d57f570b10  \n",
       "4  0060269536500f323a952b28ee090c106dc4e5a5  "
      ]
     },
     "execution_count": 5,
     "metadata": {},
     "output_type": "execute_result"
    }
   ],
   "source": [
    "test_data_frame = pd.DataFrame({'path': [p.replace('\\\\', '/') for p in glob(os.path.join(test_path,'*.tif'))]})\n",
    "\n",
    "test_data_frame['id'] = test_data_frame.path.map(lambda x: x.split('/')[5].split(\".\")[0])\n",
    "print(\"test\")\n",
    "print(len(test_data_frame))\n",
    "test_data_frame.head()\n"
   ]
  },
  {
   "cell_type": "code",
   "execution_count": 6,
   "metadata": {},
   "outputs": [],
   "source": [
    "# Helper function to process and normalize images\n",
    "def process_image(path):\n",
    "    img = cv2.imread(path)\n",
    "    return img"
   ]
  },
  {
   "cell_type": "code",
   "execution_count": 7,
   "metadata": {},
   "outputs": [],
   "source": [
    "def load_data(N,data_frame):\n",
    "    \"\"\" This functions loads N images using the data df\n",
    "    \"\"\"\n",
    "    # Establish X as an array with 3 channels for each color value\n",
    "    X = np.zeros([N,96,96,3],dtype=np.uint8) \n",
    "    # Convert the Labels object into an array\n",
    "    y = np.squeeze(data_frame[['label']].to_numpy())[0:N]\n",
    "\n",
    "    # set up multiprocessing\n",
    "    num_workers = multiprocessing.cpu_count()-2\n",
    "    # Create batches of paths to process\n",
    "    paths = data_frame['path'].iloc[:N].tolist()\n",
    "    # Use ThreadPoolExecutor for parallel image loading\n",
    "    with ThreadPoolExecutor(max_workers=num_workers) as executor:\n",
    "        # Process images in parallel\n",
    "        results = list(executor.map(process_image, paths))\n",
    "        \n",
    "        # Store results in X array\n",
    "        for i, img in enumerate(results):\n",
    "            X[i] = img\n",
    "            if i % 10 == 0:  # Reduced frequency of progress updates\n",
    "                print(f\"Processed {i}/{N} images\")\n",
    "    \n",
    "    return X, y"
   ]
  },
  {
   "cell_type": "code",
   "execution_count": 8,
   "metadata": {},
   "outputs": [
    {
     "name": "stdout",
     "output_type": "stream",
     "text": [
      "Processed 0/150 images\n",
      "Processed 10/150 images\n",
      "Processed 20/150 images\n",
      "Processed 30/150 images\n",
      "Processed 40/150 images\n",
      "Processed 50/150 images\n",
      "Processed 60/150 images\n",
      "Processed 70/150 images\n",
      "Processed 80/150 images\n",
      "Processed 90/150 images\n",
      "Processed 100/150 images\n",
      "Processed 110/150 images\n",
      "Processed 120/150 images\n",
      "Processed 130/150 images\n",
      "Processed 140/150 images\n"
     ]
    }
   ],
   "source": [
    "# Load the pictures\n",
    "N_pics=150\n",
    "X,y = load_data(N=N_pics,data_frame=df_data)\n",
    "\n"
   ]
  },
  {
   "cell_type": "code",
   "execution_count": 9,
   "metadata": {},
   "outputs": [
    {
     "data": {
      "image/png": "[encoded data removed]",
      "text/plain": [
       "<Figure size 1500x600 with 12 Axes>"
      ]
     },
     "metadata": {},
     "output_type": "display_data"
    },
    {
     "name": "stdout",
     "output_type": "stream",
     "text": [
      "\n",
      "Label distribution in displayed samples:\n",
      "Label 0: 10 images\n",
      "Label 1: 2 images\n",
      "\n",
      "Total dataset label distribution:\n",
      "Label 0: 84 images (56.0%)\n",
      "Label 1: 66 images (44.0%)\n"
     ]
    }
   ],
   "source": [
    "# Display a few sample images with their labels\n",
    "plt.figure(figsize=(15,6))\n",
    "num_samples = 12\n",
    "\n",
    "# Randomly select indices to display\n",
    "sample_indices = np.random.randint(0, len(X), num_samples)\n",
    "\n",
    "for plotNr, idx in enumerate(sample_indices):\n",
    "    ax = plt.subplot(2, num_samples//2, plotNr+1)\n",
    "    plt.imshow(X[idx])\n",
    "    plt.axis('off')\n",
    "\n",
    "plt.tight_layout()\n",
    "plt.show()\n",
    "\n",
    "# Print distribution of labels in our sample\n",
    "print(f\"\\nLabel distribution in displayed samples:\")\n",
    "unique, counts = np.unique(y[sample_indices], return_counts=True)\n",
    "for label, count in zip(unique, counts):\n",
    "    print(f\"Label {label}: {count} images\")\n",
    "\n",
    "print(f\"\\nTotal dataset label distribution:\")\n",
    "unique, counts = np.unique(y, return_counts=True)\n",
    "for label, count in zip(unique, counts):\n",
    "    print(f\"Label {label}: {count} images ({count/len(y)*100:.1f}%)\")\n"
   ]
  },
  {
   "cell_type": "markdown",
   "metadata": {},
   "source": [
    "Describe images"
   ]
  },
  {
   "cell_type": "code",
   "execution_count": 10,
   "metadata": {},
   "outputs": [],
   "source": [
    "# Lay out the size and shape of the test and train\n",
    "\n",
    "# Quick check for duplicates and NA"
   ]
  },
  {
   "cell_type": "markdown",
   "metadata": {},
   "source": [
    "Describe the Data info & cleaning\n",
    "\n",
    "Now we want to see if there is any distiguishable features we can look for visually ourselves. \n",
    "According to \n",
    "https://www.ncbi.nlm.nih.gov/books/NBK9553/#:~:text=Morphologically%2C%20the%20cancerous%20cell%20is,prominent%2C%20the%20cytoplasm%20is%20scarce\n",
    "you can see differences in the size, shape, and potentially color of the cells in the images. This is good reason to dive into attributes of the pixels deeper. Each pixel has 3 channels, red, green, and blue. We can see that these are set on a scale from 0 to 255, 0 being the darkest of the color. \n",
    "\n",
    "And right there we have two characteristics. Brightness and Color. Both of these match characteristics listed in the article above so lets check it out. \n",
    "\n",
    "Comparing pairwise images would be impossible with data of this size and the resources / time at hand. What we can do is compare the amounts of each channel in each! The total sum gives the colors and the average will then give the brightness. "
   ]
  },
  {
   "cell_type": "code",
   "execution_count": 11,
   "metadata": {},
   "outputs": [],
   "source": [
    "#  Establish a new dataframe that puts an entry for each image, with the amount of R, G, and B in each image\n"
   ]
  },
  {
   "cell_type": "code",
   "execution_count": 12,
   "metadata": {},
   "outputs": [],
   "source": [
    "# Graph"
   ]
  },
  {
   "cell_type": "code",
   "execution_count": 13,
   "metadata": {},
   "outputs": [
    {
     "data": {
      "text/plain": [
       "Text(0, 0.5, '# of samples')"
      ]
     },
     "execution_count": 13,
     "metadata": {},
     "output_type": "execute_result"
    },
    {
     "data": {
      "image/png": "[encoded data removed]",
      "text/plain": [
       "<Figure size 600x300 with 1 Axes>"
      ]
     },
     "metadata": {},
     "output_type": "display_data"
    }
   ],
   "source": [
    "# Distribution statistic\n",
    "fig = plt.figure(figsize=(4, 2),dpi=150)\n",
    "plt.bar([1,0], [(y==0).sum(), (y==1).sum()]); #plot a bar chart of the label frequency\n",
    "plt.xticks([1,0],[\"Negative (N={})\".format((y==0).sum()),\"Positive (N={})\".format((y==1).sum())]);\n",
    "plt.ylabel(\"# of samples\")"
   ]
  },
  {
   "cell_type": "markdown",
   "metadata": {},
   "source": [
    "Describe"
   ]
  },
  {
   "cell_type": "code",
   "execution_count": 14,
   "metadata": {},
   "outputs": [],
   "source": [
    "# split data\n",
    "positive_samples = X[y == 1]\n",
    "negative_samples = X[y == 0]"
   ]
  },
  {
   "cell_type": "code",
   "execution_count": 15,
   "metadata": {},
   "outputs": [
    {
     "data": {
      "image/png": "[encoded data removed]",
      "text/plain": [
       "<Figure size 1200x1200 with 8 Axes>"
      ]
     },
     "metadata": {},
     "output_type": "display_data"
    }
   ],
   "source": [
    "nr_of_bins = 256 #each possible pixel value will get a bin in the following histograms\n",
    "fig,axs = plt.subplots(4,2,sharey=True,figsize=(8,8),dpi=150)\n",
    "\n",
    "#RGB channels\n",
    "axs[0,0].hist(positive_samples[:,:,:,0].flatten(),bins=nr_of_bins,density=True)\n",
    "axs[0,1].hist(negative_samples[:,:,:,0].flatten(),bins=nr_of_bins,density=True)\n",
    "axs[1,0].hist(positive_samples[:,:,:,1].flatten(),bins=nr_of_bins,density=True)\n",
    "axs[1,1].hist(negative_samples[:,:,:,1].flatten(),bins=nr_of_bins,density=True)\n",
    "axs[2,0].hist(positive_samples[:,:,:,2].flatten(),bins=nr_of_bins,density=True)\n",
    "axs[2,1].hist(negative_samples[:,:,:,2].flatten(),bins=nr_of_bins,density=True)\n",
    "\n",
    "#All channels\n",
    "axs[3,0].hist(positive_samples.flatten(),bins=nr_of_bins,density=True)\n",
    "axs[3,1].hist(negative_samples.flatten(),bins=nr_of_bins,density=True)\n",
    "\n",
    "#Set image labels\n",
    "axs[0,0].set_title(\"Positive samples (N =\" + str(positive_samples.shape[0]) + \")\");\n",
    "axs[0,1].set_title(\"Negative samples (N =\" + str(negative_samples.shape[0]) + \")\");\n",
    "axs[0,1].set_ylabel(\"Red\",rotation='horizontal',labelpad=35,fontsize=12)\n",
    "axs[1,1].set_ylabel(\"Green\",rotation='horizontal',labelpad=35,fontsize=12)\n",
    "axs[2,1].set_ylabel(\"Blue\",rotation='horizontal',labelpad=35,fontsize=12)\n",
    "axs[3,1].set_ylabel(\"RGB\",rotation='horizontal',labelpad=35,fontsize=12)\n",
    "for i in range(4):\n",
    "    axs[i,0].set_ylabel(\"Relative frequency\")\n",
    "axs[3,0].set_xlabel(\"Pixel value\")\n",
    "axs[3,1].set_xlabel(\"Pixel value\")\n",
    "fig.tight_layout()"
   ]
  },
  {
   "cell_type": "code",
   "execution_count": 16,
   "metadata": {},
   "outputs": [
    {
     "name": "stdout",
     "output_type": "stream",
     "text": [
      "220025\n"
     ]
    }
   ],
   "source": [
    "N = df_data[\"path\"].size # get the number of images in the training data set\n",
    "print(N)"
   ]
  },
  {
   "cell_type": "code",
   "execution_count": null,
   "metadata": {},
   "outputs": [],
   "source": [
    "# Changed to 1000 for testing\n",
    "X,y = load_data(N=1000,data_frame=df_data)"
   ]
  },
  {
   "cell_type": "code",
   "execution_count": 53,
   "metadata": {},
   "outputs": [],
   "source": [
    "positives_samples = None\n",
    "negative_samples = None\n",
    "gc.collect();"
   ]
  },
  {
   "cell_type": "code",
   "execution_count": 54,
   "metadata": {},
   "outputs": [],
   "source": [
    "training_portion = 0.8 # Specify training/validation ratio\n",
    "split_idx = int(np.round(training_portion * y.shape[0])) #Compute split idx\n",
    "\n",
    "# set the seed to ensure reproducibility\n",
    "np.random.seed(42) \n",
    "\n",
    "# randomly shake up our X and Y \n",
    "idx = np.arange(y.shape[0])\n",
    "np.random.shuffle(idx)\n",
    "X = X[idx]\n",
    "y = y[idx]\n",
    "#_train, X_val, y_train, y_val = train_test_split(X, y, train_size=TRAINING_PORTION, random_state=42, stratify=y) #Stratified splitting!\n"
   ]
  },
  {
   "cell_type": "code",
   "execution_count": 55,
   "metadata": {},
   "outputs": [],
   "source": [
    "#just some network parameters, see above link regarding the layers for details\n",
    "kernel_size = (3,3)\n",
    "pool_size= (2,2)\n",
    "first_filters = 32\n",
    "second_filters = 64\n",
    "third_filters = 128\n",
    "\n",
    "#dropout is used for regularization here with a probability of 0.3 for conv layers, 0.5 for the dense layer at the end\n",
    "dropout_conv = 0.3\n",
    "dropout_dense = 0.5\n",
    "\n",
    "\n",
    "# Create model with Input layer\n",
    "inputs = Input(shape=(96, 96, 3))\n",
    "\n",
    "# Conv block 1\n",
    "x = Conv2D(first_filters, kernel_size)(inputs)\n",
    "x = BatchNormalization()(x)\n",
    "x = Activation(\"relu\")(x)\n",
    "x = Conv2D(first_filters, kernel_size, use_bias=False)(x)\n",
    "x = BatchNormalization()(x)\n",
    "x = Activation(\"relu\")(x)\n",
    "x = MaxPool2D(pool_size=pool_size)(x)\n",
    "x = Dropout(dropout_conv)(x)\n",
    "\n",
    "# Conv block 2\n",
    "x = Conv2D(second_filters, kernel_size, use_bias=False)(x)\n",
    "x = BatchNormalization()(x)\n",
    "x = Activation(\"relu\")(x)\n",
    "x = Conv2D(second_filters, kernel_size, use_bias=False)(x)\n",
    "x = BatchNormalization()(x)\n",
    "x = Activation(\"relu\")(x)\n",
    "x = MaxPool2D(pool_size=pool_size)(x)\n",
    "x = Dropout(dropout_conv)(x)\n",
    "\n",
    "# Conv block 3\n",
    "x = Conv2D(third_filters, kernel_size, use_bias=False)(x)\n",
    "x = BatchNormalization()(x)\n",
    "x = Activation(\"relu\")(x)\n",
    "x = Conv2D(third_filters, kernel_size, use_bias=False)(x)\n",
    "x = BatchNormalization()(x)\n",
    "x = Activation(\"relu\")(x)\n",
    "x = MaxPool2D(pool_size=pool_size)(x)\n",
    "x = Dropout(dropout_conv)(x)\n",
    "\n",
    "# Fully connected layer\n",
    "x = Flatten()(x)\n",
    "x = Dense(256, use_bias=False)(x)\n",
    "x = BatchNormalization()(x)\n",
    "x = Activation(\"relu\")(x)\n",
    "x = Dropout(dropout_dense)(x)\n",
    "\n",
    "# Output layer\n",
    "outputs = Dense(1, activation=\"sigmoid\")(x)"
   ]
  },
  {
   "cell_type": "code",
   "execution_count": 56,
   "metadata": {},
   "outputs": [],
   "source": [
    "model = Model(inputs=inputs, outputs=outputs)"
   ]
  },
  {
   "cell_type": "code",
   "execution_count": 57,
   "metadata": {},
   "outputs": [],
   "source": [
    "batch_size = 50\n",
    "\n",
    "model.compile(loss=keras.losses.binary_crossentropy,\n",
    "              optimizer=keras.optimizers.Adam(0.001), \n",
    "              metrics=['accuracy'])"
   ]
  },
  {
   "cell_type": "code",
   "execution_count": 58,
   "metadata": {},
   "outputs": [
    {
     "name": "stdout",
     "output_type": "stream",
     "text": [
      "Running training epoch 2 - batch 3520/3520, loss: 0.30, acc: 0.88\r"
     ]
    }
   ],
   "source": [
    "#normally you would want to reshuffle the data between epochs, we don't as we split in-place into training/validation\n",
    "epochs = 3 #how many epochs we want to perform\n",
    "for epoch in range(epochs):\n",
    "    #compute how many batches we'll need\n",
    "    iterations = np.floor(split_idx / batch_size).astype(int) #the floor makes us discard a few samples here, I got lazy...\n",
    "    loss,acc = 0,0 #we will compute running loss and accuracy\n",
    "    for i in range(iterations):\n",
    "        start_idx = i * batch_size #starting index of the current batch\n",
    "        x_batch = X[start_idx:start_idx+batch_size] #the current batch\n",
    "        y_batch = y[start_idx:start_idx+batch_size] #the labels for the current batch\n",
    "\n",
    "        metrics = model.train_on_batch(x_batch, y_batch) #train the model on a batch\n",
    "\n",
    "        loss = loss + metrics[0] #compute running loss\n",
    "        acc = acc + metrics[1] #compute running accuracy\n",
    "        print(f'Running training epoch {epoch} - batch {i+1}/{iterations}, loss: {loss/(i+1):.2f}, acc: {acc/(i+1):.2f}', end='\\r')"
   ]
  },
  {
   "cell_type": "markdown",
   "metadata": {},
   "source": [
    "# Explain training"
   ]
  },
  {
   "cell_type": "code",
   "execution_count": 59,
   "metadata": {},
   "outputs": [
    {
     "name": "stdout",
     "output_type": "stream",
     "text": [
      "Running validation - batch 880/880, loss: 0.28, acc: 0.88\n",
      "Validation loss: 0.2833322698419744\n",
      "Validation accuracy: 0.884740517356179\n"
     ]
    }
   ],
   "source": [
    "#Validation\n",
    "#compute how many batches we'll need\n",
    "iterations = np.floor((y.shape[0]-split_idx) / batch_size).astype(int) #as above, not perfect\n",
    "loss,acc = 0,0 #we will compute running loss and accuracy\n",
    "for i in range(iterations):\n",
    "    start_idx = i * batch_size #starting index of the current batch\n",
    "    x_batch = X[start_idx:start_idx+batch_size] #the current batch\n",
    "    y_batch = y[start_idx:start_idx+batch_size] #the labels for the current batch\n",
    "    \n",
    "    metrics = model.test_on_batch(x_batch, y_batch) #compute metric results for this batch using the model\n",
    "    \n",
    "    loss = loss + metrics[0] #compute running loss\n",
    "    acc = acc + metrics[1] #compute running accuracy\n",
    "    print(f'Running validation - batch {i+1}/{iterations}, loss: {loss/(i+1):.2f}, acc: {acc/(i+1):.2f}', end='\\r')\n",
    "    \n",
    "print(\"\\nValidation loss:\",loss / iterations)\n",
    "print(\"Validation accuracy:\",acc / iterations)"
   ]
  },
  {
   "cell_type": "markdown",
   "metadata": {},
   "source": [
    "# Explain Validation"
   ]
  },
  {
   "cell_type": "code",
   "execution_count": 60,
   "metadata": {},
   "outputs": [],
   "source": [
    "X = None\n",
    "y = None\n",
    "gc.collect();"
   ]
  },
  {
   "cell_type": "code",
   "execution_count": 32,
   "metadata": {},
   "outputs": [
    {
     "name": "stderr",
     "output_type": "stream",
     "text": [
      "Processing test batches:   0%|          | 0/58 [00:00<?, ?batch/s]"
     ]
    }
   ],
   "source": [
    "# Submission\n",
    "submission = pd.DataFrame() #create a dataframe to hold results\n",
    "max_idx = len(test_data_frame) #get total number of test samples\n",
    "file_batch = 1000\n",
    "\n",
    "for idx in tqdm(range(0, max_idx, file_batch), desc=\"Processing test batches\", unit=\"batch\"): #iterate over test image batches with progress bar\n",
    "    batch_df = test_data_frame.iloc[idx:idx+file_batch].copy() #get current batch from existing dataframe\n",
    "    \n",
    "    # Load and preprocess images using same functions as training\n",
    "    batch_images = []\n",
    "    for path in batch_df['path']:\n",
    "        img = load_image(path) # Load image using our load_image function\n",
    "        img = preprocess_image(img) # Preprocess using our preprocess_image function\n",
    "        batch_images.append(img)\n",
    "    \n",
    "    K_test = np.array(batch_images) # Convert processed images to numpy array\n",
    "    predictions = model.predict(K_test, verbose=1) # Get predictions\n",
    "    \n",
    "    # Ensure predictions are properly formatted (get class labels)\n",
    "    predictions = predictions.flatten()\n",
    "    batch_df['label'] = predictions\n",
    "    \n",
    "    # Add batch results to submission dataframe\n",
    "    submission = pd.concat([submission, batch_df[[\"id\", \"label\"]]])"
   ]
  },
  {
   "cell_type": "code",
   "execution_count": 33,
   "metadata": {},
   "outputs": [],
   "source": [
    "submission.to_csv(\"submission.csv\", index = False, header = True) #create the submission file"
   ]
  }
 ],
 "metadata": {
  "kernelspec": {
   "display_name": "Python 3",
   "language": "python",
   "name": "python3"
  },
  "language_info": {
   "codemirror_mode": {
    "name": "ipython",
    "version": 3
   },
   "file_extension": ".py",
   "mimetype": "text/x-python",
   "name": "python",
   "nbconvert_exporter": "python",
   "pygments_lexer": "ipython3",
   "version": "3.11.7"
  }
 },
 "nbformat": 4,
 "nbformat_minor": 2
}
